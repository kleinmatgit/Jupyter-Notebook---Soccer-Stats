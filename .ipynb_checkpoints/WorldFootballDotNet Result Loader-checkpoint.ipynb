{
 "cells": [
  {
   "cell_type": "markdown",
   "metadata": {},
   "source": [
    "# Introduction"
   ]
  },
  {
   "cell_type": "markdown",
   "metadata": {},
   "source": [
    "The goal of this notebook is to load soccer results from tree structure downloaded from worldfootball.net website. Results will be loaded and then saved as csv so user can look at it quickly if needed."
   ]
  },
  {
   "cell_type": "markdown",
   "metadata": {},
   "source": [
    "# Import"
   ]
  },
  {
   "cell_type": "code",
   "execution_count": 1,
   "metadata": {
    "collapsed": true
   },
   "outputs": [],
   "source": [
    "import lxml.html as lh\n",
    "import lxml.etree as et\n",
    "from selenium import webdriver\n",
    "import time\n",
    "import pickle\n",
    "import traceback\n",
    "import logging\n",
    "import os.path\n",
    "import configparser\n",
    "import os\n",
    "import re\n",
    "import datetime\n",
    "import errno"
   ]
  },
  {
   "cell_type": "markdown",
   "metadata": {},
   "source": [
    "# Params"
   ]
  },
  {
   "cell_type": "code",
   "execution_count": 2,
   "metadata": {
    "collapsed": true
   },
   "outputs": [],
   "source": [
    "root_path = 'L:/Dev/Sandbox/Apps Development/SoccerWebApp/PySoccer/WorldFootballDotNet/'\n",
    "conf_path = os.path.join(root_path, '_conf','worldfootball.ini')\n",
    "log_path = os.path.join(root_path, '_logs')"
   ]
  },
  {
   "cell_type": "markdown",
   "metadata": {},
   "source": [
    "# Logging"
   ]
  },
  {
   "cell_type": "code",
   "execution_count": 3,
   "metadata": {
    "collapsed": false
   },
   "outputs": [],
   "source": [
    "logger = logging.getLogger('myapp')\n",
    "timestamp = datetime.datetime.now().strftime('%H%M%S')\n",
    "hdlr = logging.FileHandler(os.path.join(log_path,'worldfootballnet_TreeLoader_' + timestamp + '.log'))\n",
    "formatter = logging.Formatter('%(asctime)s %(levelname)s %(message)s')\n",
    "hdlr.setFormatter(formatter)\n",
    "logger.addHandler(hdlr) \n",
    "logger.setLevel(logging.DEBUG)"
   ]
  },
  {
   "cell_type": "code",
   "execution_count": 4,
   "metadata": {
    "collapsed": true
   },
   "outputs": [],
   "source": [
    "def logWrapper(message, level=\"info\", print_console=True):\n",
    "    if(print_console):\n",
    "        print(message)\n",
    "    if(level==\"info\"):\n",
    "        logger.info(message)\n",
    "    elif(level==\"warning\"):\n",
    "        logger.warning(message)\n",
    "    elif(level==\"debug\"):\n",
    "        logger.debug(message)\n",
    "    elif(level==\"error\"):\n",
    "        logger.error(message)"
   ]
  },
  {
   "cell_type": "code",
   "execution_count": 5,
   "metadata": {
    "collapsed": false
   },
   "outputs": [],
   "source": [
    "#logger.error(\"test error\")\n",
    "#logger.warning(\"this is a warning\")\n",
    "#logger.info(\"this is just info\")\n",
    "#logger.debug(\"this is debug\")\n",
    "#logWrapper('hello world')\n",
    "#logWrapper('message')"
   ]
  },
  {
   "cell_type": "markdown",
   "metadata": {
    "collapsed": true
   },
   "source": [
    "# Conf"
   ]
  },
  {
   "cell_type": "code",
   "execution_count": 6,
   "metadata": {
    "collapsed": false
   },
   "outputs": [],
   "source": [
    "class ConfHandler():\n",
    "\n",
    "    dicSections = {}\n",
    "    \n",
    "    def __init__(self,file_full_path):\n",
    "\n",
    "        if not os.path.exists(file_full_path):\n",
    "            raise Exception('path not correct: {0}'.format(file_full_path))\n",
    "        \n",
    "        config = configparser.ConfigParser()\n",
    "        config.read(file_full_path)\n",
    "        \n",
    "        for s in config.sections():\n",
    "            dicParams = {}\n",
    "            for p in config[s]:\n",
    "                dicParams[p] = config[s][p]\n",
    "            self.dicSections[s] = dicParams\n",
    "\n",
    "    def get(self,section,param, is_param_list = False):\n",
    "        if(is_param_list):\n",
    "            return self.dicSections[section][param].replace(' ','').split(',')\n",
    "        return self.dicSections[section][param]\n",
    "    \n",
    "    def get_section(self,section):\n",
    "        return self.dicSections[section]\n",
    "    \n",
    "    def get_sections(self):\n",
    "        return sorted(list(self.dicSections.keys()))"
   ]
  },
  {
   "cell_type": "code",
   "execution_count": 7,
   "metadata": {
    "collapsed": false
   },
   "outputs": [],
   "source": [
    "# test conf\n",
    "#conf = ConfHandler(conf_path)\n",
    "#print(conf.get('france','ligue1'))\n",
    "#dic = conf.get_section('france')\n",
    "#print(dic)\n",
    "#sections = conf.get_sections()\n",
    "#print(sections)\n",
    "#print(conf.get('cup', 'club_cup_list', True))"
   ]
  },
  {
   "cell_type": "markdown",
   "metadata": {},
   "source": [
    "# Functions"
   ]
  },
  {
   "cell_type": "markdown",
   "metadata": {},
   "source": [
    "## [selenium_url_to_tree] download url final output as a tree"
   ]
  },
  {
   "cell_type": "code",
   "execution_count": 8,
   "metadata": {
    "collapsed": true
   },
   "outputs": [],
   "source": [
    "# get url html as elementtree using selenium.webdriver\n",
    "def selenium_url_to_tree(driver, url):\n",
    "    driver.get(url)\n",
    "    time.sleep(2)\n",
    "    htmlSource = driver.page_source\n",
    "    tree = lh.fromstring(htmlSource)\n",
    "    return tree\n",
    "\n",
    "# HOW IT WORKS....\n",
    "# open driver: that will open firefox window\n",
    "#driver = webdriver.Firefox()\n",
    "\n",
    "# construct the trees only once\n",
    "#results_tree = selenium_url_to_tree(driver,week_url)\n",
    "\n",
    "# close firefox window once done\n",
    "#driver.quit()"
   ]
  },
  {
   "cell_type": "code",
   "execution_count": 9,
   "metadata": {
    "collapsed": false
   },
   "outputs": [],
   "source": [
    "# return html page as a tree.\n",
    "def get_tree_from_file(filename):\n",
    "    \n",
    "    if(not os.path.isfile(filename)):\n",
    "        logWrapper(\"File doesn't exist: {0}\".format(filename), level='error')\n",
    "        raise FileNotFoundError(errno.ENOENT, os.strerror(errno.ENOENT), filename)\n",
    "    \n",
    "    return lh.fromstring(open(filename, 'r').read())"
   ]
  },
  {
   "cell_type": "code",
   "execution_count": 10,
   "metadata": {
    "collapsed": true
   },
   "outputs": [],
   "source": [
    "# analyse a tree structure and guess its type (ie: league game? 2 legs cup game?)\n",
    "def guess_tree_type(tree):\n",
    "    \n",
    "    # specific to 2 legs cup games (ie: champions league knock out games)\n",
    "    if len(tree.findall('.//div[@class=\"data\"]//table[@class=\"standard_tabelle\"]//tbody/tr[@class=\"dunkel\"]')) > 0:\n",
    "        #logWrapper('Tree type is 2legs-cup')\n",
    "        return '2legs-cup'\n",
    "    \n",
    "    # standard league games or group stage games\n",
    "    elif len(tree.findall('.//div[@class=\"data\"]//table[@class=\"standard_tabelle\"]//tbody/tr')):\n",
    "        #logWrapper('Tree type is league')\n",
    "        return 'league'\n",
    "    \n",
    "    raise ValueError(\"Couldn't guess tree type\") "
   ]
  },
  {
   "cell_type": "code",
   "execution_count": 11,
   "metadata": {
    "collapsed": false
   },
   "outputs": [],
   "source": [
    "def extract_result_from_tree(tree, competition, season, stage):\n",
    "    \n",
    "    tree_type = guess_tree_type(tree)\n",
    "    \n",
    "    if(tree_type==\"league\"):\n",
    "        return extract_result_from_league_tree(tree, competition, season, stage)\n",
    "    elif(tree_type==\"2legs-cup\"):\n",
    "        return extract_result_from_2legscup_tree(tree, competition, season, stage)\n",
    "    else:\n",
    "        logWrapper('Unhandled tree type: {0}'.format(tree_type), level='error')\n",
    "        raise"
   ]
  },
  {
   "cell_type": "code",
   "execution_count": 12,
   "metadata": {
    "collapsed": true
   },
   "outputs": [],
   "source": [
    "# '3:1 (2:1)'\n",
    "def extract_standard_score(matchObj):\n",
    "    return {'home_score_ht':matchObj.group(3),\n",
    "            'away_score_ht':matchObj.group(4),\n",
    "            'home_score':matchObj.group(1),\n",
    "            'away_score':matchObj.group(2),\n",
    "            'home_score_et':None,\n",
    "            'away_score_et':None,\n",
    "            'home_pk':None,\n",
    "            'away_pk':None}\n",
    "\n",
    "# '1:3 (0:0, 1:1) aet'\n",
    "def extract_score_et(matchObj):\n",
    "    return {'home_score_ht':matchObj.group(3),\n",
    "            'away_score_ht':matchObj.group(4),\n",
    "            'home_score':matchObj.group(5),\n",
    "            'away_score':matchObj.group(6),\n",
    "            'home_score_et':matchObj.group(1),\n",
    "            'away_score_et':matchObj.group(2),\n",
    "            'home_pk':None,\n",
    "            'away_pk':None}\n",
    "\n",
    "# '1:4 (0:0, 0:0, 0:0) pso'\n",
    "def extract_score_pk(matchObj):\n",
    "    return {'home_score_ht':matchObj.group(3),\n",
    "            'away_score_ht':matchObj.group(4),\n",
    "            'home_score':matchObj.group(5),\n",
    "            'away_score':matchObj.group(6),\n",
    "            'home_score_et':matchObj.group(7),\n",
    "            'away_score_et':matchObj.group(8),\n",
    "            'home_pk':matchObj.group(1),\n",
    "            'away_pk':matchObj.group(2)}\n",
    "# '1:3'  \n",
    "def extract_simple_score(matchObj):\n",
    "    return {'home_score_ht':None,\n",
    "            'away_score_ht':None,\n",
    "            'home_score':matchObj.group(1),\n",
    "            'away_score':matchObj.group(2),\n",
    "            'home_score_et':None,\n",
    "            'away_score_et':None,\n",
    "            'home_pk':None,\n",
    "            'away_pk':None}\n",
    "    \n",
    "# analyse a score string, using a list of regular expressions corresponding to each possible score patterns    \n",
    "def analyse_score(score):\n",
    "    \n",
    "    regs = {'standard-score': (r'([0-9]{1,2}):([0-9]{1,2}) \\(([0-9]{1,2}):([0-9]{1,2})\\)', extract_standard_score),\n",
    "            'score-extra-time': (r'([0-9]{1,2}):([0-9]{1,2}) \\(([0-9]{1,2}):([0-9]{1,2}), ([0-9]{1,2}):([0-9]{1,2})\\) aet', extract_score_et),\n",
    "            'score-penalty': (r'([0-9]{1,2}):([0-9]{1,2}) \\(([0-9]{1,2}):([0-9]{1,2}), ([0-9]{1,2}):([0-9]{1,2}), ([0-9]{1,2}):([0-9]{1,2})\\) pso', extract_score_pk),\n",
    "            'simple-score': (r'([0-9]{1,2}):([0-9]{1,2})', extract_simple_score)}\n",
    "    \n",
    "    for key in regs.keys():\n",
    "        matchObj = re.match(regs[key][0], score)\n",
    "        if matchObj:\n",
    "            data = regs[key][1](matchObj)\n",
    "            break\n",
    "    \n",
    "    if data['home_score_ht']:\n",
    "        if data['home_score_ht'] > data['home_score']:\n",
    "            raise ValueError(\"half time home score ({0}) can't be higher than final home score ({1})\".format(data['home_score_ht'], data['home_score']))\n",
    "    \n",
    "    if data['away_score_ht']:\n",
    "        if data['away_score_ht'] > data['away_score']:\n",
    "            raise ValueError(\"half time away score ({0}) can't be higher than final away score ({1})\".format(data['away_score_ht'], data['away_score']))\n",
    "    \n",
    "    return data"
   ]
  },
  {
   "cell_type": "code",
   "execution_count": 13,
   "metadata": {
    "collapsed": false
   },
   "outputs": [],
   "source": [
    "# test analyse_score\n",
    "#print(analyse_score('3:1 (0:0)'))\n",
    "#print(analyse_score('1:3 (0:0, 1:1) aet'))\n",
    "#print(analyse_score('1:4 (0:1, 2:2, 3:3) pso'))\n",
    "#print(analyse_score('1:3'))"
   ]
  },
  {
   "cell_type": "code",
   "execution_count": 14,
   "metadata": {
    "collapsed": true
   },
   "outputs": [],
   "source": [
    "# use regex to match date in string (ie: '05/07/2016')\n",
    "def match_date(s):\n",
    "    matchObj = re.match(r'.*([0-3][0-9]/[0-1][0-9]/[1-3][0-9]{3}).*', s)\n",
    "    if not matchObj:\n",
    "        raise\n",
    "    return matchObj.group(1)"
   ]
  },
  {
   "cell_type": "code",
   "execution_count": 15,
   "metadata": {
    "collapsed": true
   },
   "outputs": [],
   "source": [
    "# use regex to match time in string (ie: '17:05')\n",
    "def match_time(s):\n",
    "    matchObj = re.match(r'.*([0-2][0-9]:[0-5][0-9]).*', s)\n",
    "    if not matchObj:\n",
    "        return None\n",
    "    return matchObj.group(1)"
   ]
  },
  {
   "cell_type": "code",
   "execution_count": 16,
   "metadata": {
    "collapsed": false
   },
   "outputs": [],
   "source": [
    "def extract_result_from_league_tree(tree, competition, season, stage):\n",
    "    \n",
    "    # get tables html element from the tree\n",
    "    table = tree.find('.//div[@class=\"data\"]//table[@class=\"standard_tabelle\"]')\n",
    "    \n",
    "    # log current process\n",
    "    logWrapper(\"Processing season {0}, {1}\".format(season, stage))\n",
    "    \n",
    "    # store results\n",
    "    data = []\n",
    "    \n",
    "    # get all rows\n",
    "    trs = table.findall('.//tbody/tr')\n",
    "    \n",
    "    current_date = None\n",
    "    \n",
    "    for tr in trs:\n",
    "        \n",
    "        date = tr[0].text_content().strip()\n",
    "        if(date != ''):\n",
    "            current_date = date\n",
    "        else:\n",
    "            date = current_date\n",
    "            \n",
    "        time = tr[1].text_content().strip()\n",
    "        home_team = tr[2].text_content().strip()\n",
    "        away_team = tr[4].text_content().strip()\n",
    "        \n",
    "        scores = tr[5].text_content().strip()\n",
    "        \n",
    "        dic_scores = analyse_score(scores)\n",
    "        home_score_ht = dic_scores['home_score_ht']\n",
    "        away_score_ht = dic_scores['away_score_ht']\n",
    "        home_score = dic_scores['home_score']\n",
    "        away_score = dic_scores['away_score']\n",
    "        home_score_et = dic_scores['home_score_et']\n",
    "        away_score_et = dic_scores['away_score_et']\n",
    "        home_pk = dic_scores['home_pk']\n",
    "        away_pk = dic_scores['away_pk']\n",
    "        \n",
    "        data += [[season, stage, date, time, home_team, away_team, home_score_ht, away_score_ht, home_score, away_score, home_score_et, away_score_et, home_pk, away_pk]]\n",
    "        \n",
    "    return data"
   ]
  },
  {
   "cell_type": "code",
   "execution_count": 17,
   "metadata": {
    "collapsed": true
   },
   "outputs": [],
   "source": [
    "def extract_result_from_2legscup_tree(tree, competition, season, stage):\n",
    "    \n",
    "    # log current process\n",
    "    logWrapper(\"Processing season {0}, {1}\".format(season, stage))\n",
    "    \n",
    "    # store results\n",
    "    data = []\n",
    "    \n",
    "    # get all rows which represent a results\n",
    "    trs = tree.findall('.//div[@class=\"data\"]//table[@class=\"standard_tabelle\"]//tbody/tr[@class=\"hell\"]')\n",
    "        \n",
    "    date = None\n",
    "    time = None\n",
    "    \n",
    "    for tr in trs:\n",
    "        \n",
    "        leg = tr[0].text_content().strip()\n",
    "        if leg[:3]=='1st':\n",
    "            curr_stage = stage + ' - 1st Leg'\n",
    "        else:\n",
    "            curr_stage = stage + ' - 2nd Leg'\n",
    "        \n",
    "        home_team = tr[1].text_content().strip()\n",
    "        away_team = tr[3].text_content().strip()\n",
    "        \n",
    "        scores = tr[4].text_content().strip()\n",
    "        \n",
    "        dic_scores = analyse_score(scores)\n",
    "        home_score_ht = dic_scores['home_score_ht']\n",
    "        away_score_ht = dic_scores['away_score_ht']\n",
    "        home_score = dic_scores['home_score']\n",
    "        away_score = dic_scores['away_score']\n",
    "        home_score_et = dic_scores['home_score_et']\n",
    "        away_score_et = dic_scores['away_score_et']\n",
    "        home_pk = dic_scores['home_pk']\n",
    "        away_pk = dic_scores['away_pk']\n",
    "        \n",
    "        data += [[season, curr_stage, date, time, home_team, away_team, home_score_ht, away_score_ht, home_score, away_score, home_score_et, away_score_et, home_pk, away_pk]]\n",
    "    \n",
    "    # get all rows which represent date/time informations\n",
    "    trs = tree.findall('.//div[@class=\"data\"]//table[@class=\"standard_tabelle\"]//tbody/tr[@class=\"dunkel\"]')\n",
    "        \n",
    "    index = 0\n",
    "    for tr in trs:\n",
    "        data[index][2] = match_date(tr[1].text_content().strip())\n",
    "        data[index][3] = match_time(tr[1].text_content().strip())\n",
    "        data[index+1][2] = match_date(tr[3].text_content().strip())\n",
    "        data[index+1][3] = match_time(tr[3].text_content().strip())\n",
    "        index = index + 2\n",
    "            \n",
    "    return data"
   ]
  },
  {
   "cell_type": "code",
   "execution_count": 18,
   "metadata": {
    "collapsed": true
   },
   "outputs": [],
   "source": [
    "def construct_stage_tree_path(zone, competition, season, stage):\n",
    "    return os.path.join(root_path, zone, competition, season, stage + '.html')    "
   ]
  },
  {
   "cell_type": "code",
   "execution_count": 19,
   "metadata": {
    "collapsed": true
   },
   "outputs": [],
   "source": [
    "def wrap_test(params):\n",
    "    tree = get_tree_from_file(construct_stage_tree_path(params['zone'], params['competition'], params['season'], params['stage']))\n",
    "    return extract_result_from_tree(tree, params['competition'], params['season'], params['stage'])"
   ]
  },
  {
   "cell_type": "code",
   "execution_count": 20,
   "metadata": {
    "collapsed": false
   },
   "outputs": [],
   "source": [
    "def run_test():\n",
    "    # load conf\n",
    "    conf = ConfHandler(conf_path)\n",
    "\n",
    "    # 0:  season\n",
    "    # 1:  stage\n",
    "    # 2:  date\n",
    "    # 3:  time\n",
    "    # 4:  home_team\n",
    "    # 5:  away_team\n",
    "    # 6:  home_score_ht\n",
    "    # 7:  away_score_ht\n",
    "    # 8:  home_score\n",
    "    # 9:  away_score\n",
    "    # 10: home_score_et\n",
    "    # 11: away_score_et\n",
    "    # 12: home_pk\n",
    "    # 13: away_pk\n",
    "\n",
    "    # 1st example: league game - ligue1\n",
    "    data = wrap_test({'zone':'france', 'competition':'ligue1', 'season':'2016-2017', 'stage':'Week04'})\n",
    "    game = data[0]\n",
    "    assert(game[4]=='Paris Saint-Germain' and game[6]=='0' and game[8]=='1')\n",
    "    print('Test 01 --> OK')\n",
    "\n",
    "    # 2nd example: cup game - coupe de france with extra time and penalty shots\n",
    "    data = wrap_test({'zone':'france', 'competition':'coupe-de-france', 'season':'2014-2015', 'stage':'Round of 16'})\n",
    "    game = data[1]\n",
    "    assert(game[5]=='AJ Auxerre' and game[6]=='0' and game[7]=='0' and game[8]=='1' and game[9]=='1' and game[12]=='5' and game[13]=='6')\n",
    "    print('Test 02 --> OK')\n",
    "\n",
    "    # 3rd example: cup game - coupe de france with extra time only\n",
    "    game = data[4]\n",
    "    assert(game[4]=='AS Yzeure' and game[6]=='0' and game[7]=='0' and game[8]=='1' and game[9]=='1' and game[10]=='1' and game[11]=='3' and game[12]==None)\n",
    "    print('Test 03 --> OK')\n",
    "\n",
    "    # 4th example: 2 legs game - champions league\n",
    "    data = wrap_test({'zone':'europe', 'competition':'champions-league', 'season':'2015-2016', 'stage':'Round of 16'})\n",
    "    game = data[0]\n",
    "    assert(game[1]=='Round of 16 - 1st Leg' and game[2]=='16/02/2016' and game[3]=='19:45' and game[4]=='Paris Saint-Germain' and game[8]=='2' and game[9]=='1' and game[6]=='1' and game[7]=='1')\n",
    "    print('Test 04 --> OK')\n",
    "\n",
    "    # 5th example: 2 legs game - champions league with extra time\n",
    "    game = data[11]\n",
    "    assert(game[1]=='Round of 16 - 2nd Leg' and game[2]=='16/03/2016' and game[3]=='19:45' and game[5]=='Juventus' and game[8]=='2' and game[9]=='2' and game[6]=='0' and game[7]=='2' and game[10]=='4' and game[11]=='2')\n",
    "    print('Test 05 --> OK')\n",
    "\n",
    "    # 6th example: 2 legs game - champions league with penalty shots\n",
    "    game = data[13]\n",
    "    assert(game[1]=='Round of 16 - 2nd Leg' and game[2]=='15/03/2016' and game[3]=='19:45' and game[5]=='PSV Eindhoven' and game[6]==game[7]==game[8]==game[9]==game[10]==game[11]=='0' and game[12]=='8' and game[13]=='7')\n",
    "    print('Test 06 --> OK')\n",
    "\n",
    "    # 7th example: champions league group stage\n",
    "    data = wrap_test({'zone':'europe', 'competition':'champions-league', 'season':'2015-2016', 'stage':'Group A'})\n",
    "    game = data[0]\n",
    "    assert(game[1]=='Group A' and game[2]=='15/09/2015' and game[3]=='19:45' and game[4]=='Real Madrid' and game[8]=='4' and game[9]=='0' and game[6]=='1' and game[7]=='0')\n",
    "    print('Test 07 --> OK')\n",
    "\n",
    "    # 8th example: champions league group stage\n",
    "    game = data[1]\n",
    "    assert(game[1]=='Group A' and game[2]=='15/09/2015' and game[3]=='19:45' and game[4]=='Paris Saint-Germain' and game[8]=='2' and game[9]=='0' and game[6]=='1' and game[7]=='0')\n",
    "    print('Test 08 --> OK')\n",
    "\n",
    "    # 9th example: world cup qualifier CONCACAF\n",
    "    data = wrap_test({'zone':'world', 'competition':'world-cup-qualifier-concacaf', 'season':'2000-2001', 'stage':'Caribbean Semi-finals'})\n",
    "    game = data[2]\n",
    "    assert(game[1]=='Caribbean Semi-finals - 1st Leg' and game[2]=='01/04/2000' and game[3]==None and game[4]=='Haiti' and game[8]=='9' and game[9]=='0' and game[6]==game[7]==game[10]==game[11]==game[12]==game[13]==None)\n",
    "    print('Test 09 --> OK')\n"
   ]
  },
  {
   "cell_type": "code",
   "execution_count": 21,
   "metadata": {
    "collapsed": false
   },
   "outputs": [
    {
     "name": "stdout",
     "output_type": "stream",
     "text": [
      "Processing season 2016-2017, Week04\n",
      "Test 01 --> OK\n",
      "Processing season 2014-2015, Round of 16\n",
      "Test 02 --> OK\n",
      "Test 03 --> OK\n",
      "Processing season 2015-2016, Round of 16\n",
      "Test 04 --> OK\n",
      "Test 05 --> OK\n",
      "Test 06 --> OK\n",
      "Processing season 2015-2016, Group A\n",
      "Test 07 --> OK\n",
      "Test 08 --> OK\n",
      "Processing season 2000-2001, Caribbean Semi-finals\n",
      "Test 09 --> OK\n"
     ]
    }
   ],
   "source": [
    "# run battery of test\n",
    "run_test()"
   ]
  }
 ],
 "metadata": {
  "kernelspec": {
   "display_name": "Python 3",
   "language": "python",
   "name": "python3"
  },
  "language_info": {
   "codemirror_mode": {
    "name": "ipython",
    "version": 3
   },
   "file_extension": ".py",
   "mimetype": "text/x-python",
   "name": "python",
   "nbconvert_exporter": "python",
   "pygments_lexer": "ipython3",
   "version": "3.6.0"
  }
 },
 "nbformat": 4,
 "nbformat_minor": 2
}
