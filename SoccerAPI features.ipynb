{
 "cells": [
  {
   "cell_type": "markdown",
   "metadata": {},
   "source": [
    "# Introduction"
   ]
  },
  {
   "cell_type": "markdown",
   "metadata": {},
   "source": [
    "This notebook is used to test SoccerAPI features"
   ]
  },
  {
   "cell_type": "markdown",
   "metadata": {},
   "source": [
    "## Import"
   ]
  },
  {
   "cell_type": "code",
   "execution_count": 1,
   "metadata": {
    "collapsed": true
   },
   "outputs": [],
   "source": [
    "import pandas as pd\n",
    "import logging\n",
    "from os import listdir\n",
    "from os.path import isfile, join\n",
    "import psycopg2\n",
    "from sqlalchemy import create_engine"
   ]
  },
  {
   "cell_type": "markdown",
   "metadata": {},
   "source": [
    "## Params"
   ]
  },
  {
   "cell_type": "code",
   "execution_count": 2,
   "metadata": {
    "collapsed": true
   },
   "outputs": [],
   "source": [
    "user = 'postgres'\n",
    "password = 'postgres'\n",
    "databasename = 'soccer-db'\n",
    "host = 'localhost'\n",
    "port = '5432'"
   ]
  },
  {
   "cell_type": "markdown",
   "metadata": {},
   "source": [
    "## Functions"
   ]
  },
  {
   "cell_type": "markdown",
   "metadata": {},
   "source": [
    "### [db_connect] connect to postgres db and give back conn object"
   ]
  },
  {
   "cell_type": "code",
   "execution_count": 3,
   "metadata": {
    "collapsed": true
   },
   "outputs": [],
   "source": [
    "def db_connect():\n",
    "    try:\n",
    "        conn = psycopg2.connect(\"dbname='{0}' user='{1}' host='{2}' password='{3}'\".format(databasename, user, host, password))\n",
    "    except:\n",
    "        print(\"I am unable to connect to the database\")\n",
    "\n",
    "    # Open a cursor to perform database operations\n",
    "    return conn"
   ]
  },
  {
   "cell_type": "markdown",
   "metadata": {},
   "source": [
    "### [db_get_seasons_name] get list of seasons name"
   ]
  },
  {
   "cell_type": "code",
   "execution_count": 4,
   "metadata": {
    "collapsed": true
   },
   "outputs": [],
   "source": [
    "def db_get_seasons(cur):\n",
    "    cur.execute(\"select name from seasons\")\n",
    "    rows = cur.fetchall()\n",
    "    return [x[0] for x in rows]"
   ]
  },
  {
   "cell_type": "markdown",
   "metadata": {},
   "source": [
    "### [db_confrontation_history_to_df] get confrontation history between 2 teams as dataframe"
   ]
  },
  {
   "cell_type": "code",
   "execution_count": 5,
   "metadata": {
    "collapsed": true
   },
   "outputs": [],
   "source": [
    "def db_confrontation_history_to_df(cur, hometeam, awayteam, nb_games = 100, season_min = '1970/1971'):\n",
    "    cur.execute(\"select * from confrontation_history('{0}','{1}',{2},'{3}')\".format(hometeam, awayteam, nb_games, season_min))\n",
    "    colnames = [desc[0] for desc in cur.description]\n",
    "    return pd.DataFrame(data=cur.fetchall(), columns=colnames)"
   ]
  },
  {
   "cell_type": "markdown",
   "metadata": {},
   "source": [
    "### [db_week_dates_to_df] call to week_dates database function, which return dates associated to each stage of type \"week\""
   ]
  },
  {
   "cell_type": "code",
   "execution_count": 6,
   "metadata": {
    "collapsed": true
   },
   "outputs": [],
   "source": [
    "def db_week_dates_to_df(cur, competition, season):\n",
    "    cur.execute(\"select * from week_dates('{0}', '{1}')\".format(competition, season))\n",
    "    colnames = [desc[0] for desc in cur.description]\n",
    "    return pd.DataFrame(data=cur.fetchall(), columns=colnames)"
   ]
  },
  {
   "cell_type": "markdown",
   "metadata": {},
   "source": [
    "### [check_week_dates_inconsistency_to_df] check for inconsistency in week dates"
   ]
  },
  {
   "cell_type": "code",
   "execution_count": 15,
   "metadata": {
    "collapsed": true
   },
   "outputs": [],
   "source": [
    "# check for inconsistency in week dates - ie: first week is not week 01\n",
    "# can happen as dates are sometime messed up on ligue1.com website\n",
    "# returns a dataframe containing these inconsistencies\n",
    "def check_week_dates_inconsistency_to_df(competitionname):\n",
    "    conn = db_connect()\n",
    "    cur = conn.cursor()\n",
    "    seasons = db_get_seasons(cur)\n",
    "    df = db_week_dates_to_df(cur,competitionname, '2016/2017')\n",
    "    df2 = pd.DataFrame(columns=df.columns)\n",
    "    i = 0\n",
    "    for season in seasons:\n",
    "        df = db_week_dates_to_df(cur,competitionname,season)\n",
    "        if df.loc[0]['stage'] != 'Week 01':\n",
    "            df2.loc[i] = df.loc[0]\n",
    "            i = i+1\n",
    "    conn.close()\n",
    "    return df2"
   ]
  },
  {
   "cell_type": "markdown",
   "metadata": {},
   "source": [
    "### [get_delayed_fixtures_to_df] get delayed fixtures for given competition/season, returns dataframe"
   ]
  },
  {
   "cell_type": "code",
   "execution_count": 35,
   "metadata": {
    "collapsed": true
   },
   "outputs": [],
   "source": [
    "def get_delayed_fixtures_to_df(cur, competition, season):\n",
    "    df = db_week_dates_to_df(cur, competition, season)\n",
    "    df2 = pd.DataFrame(columns=df.columns)\n",
    "    prev_stage_id = int(df['stage'][0][-2:])\n",
    "    i = 0\n",
    "    j = 1\n",
    "    for stage in df['stage'][1:]:\n",
    "        curr_stage_id = int(stage[-2:])\n",
    "        if(curr_stage_id < prev_stage_id):\n",
    "            df2.loc[i] = df.loc[j]\n",
    "            i = i+1\n",
    "        prev_stage_id = curr_stage_id\n",
    "        j = j+1\n",
    "    return df2"
   ]
  },
  {
   "cell_type": "markdown",
   "metadata": {},
   "source": [
    "### [get_week_unique_end_dates_to_df] get week unique end dates for given competition/season, returns dataframe"
   ]
  },
  {
   "cell_type": "code",
   "execution_count": 55,
   "metadata": {
    "collapsed": true
   },
   "outputs": [],
   "source": [
    "def get_week_unique_end_dates_to_df(cur, competition, season):\n",
    "    df1 = get_delayed_fixtures_to_df(cur, competition, season)\n",
    "    df2 = db_week_dates_to_df(cur, competition, season)\n",
    "    df3 = df2.merge(df1, on=['season','competition','stage', 'date'], how='left')\n",
    "    df4 = df3[df3.nb_games_y.isnull()][['stage','date']]\n",
    "    return df4.groupby(['stage'], sort=False)['date'].max()"
   ]
  },
  {
   "cell_type": "markdown",
   "metadata": {},
   "source": [
    "### [] process all season"
   ]
  },
  {
   "cell_type": "markdown",
   "metadata": {},
   "source": [
    "## Test API"
   ]
  },
  {
   "cell_type": "code",
   "execution_count": 32,
   "metadata": {
    "collapsed": false
   },
   "outputs": [],
   "source": [
    "## TEST CONFRONTATION HISTORY FUNCTION ##\n",
    "\n",
    "# connect to database\n",
    "conn = db_connect()\n",
    "cur = conn.cursor()\n",
    "#df = db_confrontation_history_to_df(cur,'psg','om')\n",
    "#print(df)\n",
    "#conn.close()"
   ]
  },
  {
   "cell_type": "code",
   "execution_count": 33,
   "metadata": {
    "collapsed": false
   },
   "outputs": [
    {
     "name": "stdout",
     "output_type": "stream",
     "text": [
      "no inconsistency\n"
     ]
    }
   ],
   "source": [
    "## TEST WEEK_DATES FUNCTION ##\n",
    "df = check_week_dates_inconsistency_to_df('Ligue 1')\n",
    "if df.shape[0]==0:\n",
    "    print('no inconsistency')"
   ]
  },
  {
   "cell_type": "code",
   "execution_count": 48,
   "metadata": {
    "collapsed": false
   },
   "outputs": [],
   "source": [
    "## TEST DELAYED FIXTURES ##\n",
    "competition = 'Ligue 1'\n",
    "season = '2016/2017'\n",
    "def something_to_df(cur, competition, season):\n",
    "    df1 = get_delayed_fixtures_to_df(cur, competition, season)\n",
    "    df2 = db_week_dates_to_df(cur, competition, season)\n",
    "    df3 = df2.merge(df1, on=['season','competition','stage', 'date'], how='left')\n",
    "    df4 = df3[df3.nb_games_y.isnull()][['stage','date']]\n",
    "    return df4.groupby(['stage'], sort=False)['date'].max()\n",
    "    "
   ]
  },
  {
   "cell_type": "code",
   "execution_count": 51,
   "metadata": {
    "collapsed": false
   },
   "outputs": [],
   "source": [
    "df5 = df4.groupby(['stage'], sort=False)['date'].max()"
   ]
  },
  {
   "cell_type": "code",
   "execution_count": 53,
   "metadata": {
    "collapsed": false
   },
   "outputs": [
    {
     "data": {
      "text/plain": [
       "38"
      ]
     },
     "execution_count": 53,
     "metadata": {},
     "output_type": "execute_result"
    }
   ],
   "source": [
    "df5.shape[0]"
   ]
  },
  {
   "cell_type": "code",
   "execution_count": 54,
   "metadata": {
    "collapsed": false
   },
   "outputs": [
    {
     "data": {
      "text/plain": [
       "stage\n",
       "Week 01    2016-08-14\n",
       "Week 02    2016-08-21\n",
       "Week 03    2016-08-28\n",
       "Week 04    2016-09-11\n",
       "Week 05    2016-09-18\n",
       "Week 06    2016-09-21\n",
       "Week 07    2016-09-25\n",
       "Week 08    2016-10-02\n",
       "Week 09    2016-10-16\n",
       "Week 10    2016-10-23\n",
       "Week 11    2016-10-30\n",
       "Week 12    2016-11-06\n",
       "Week 13    2016-11-20\n",
       "Week 14    2016-11-27\n",
       "Week 15    2016-11-30\n",
       "Week 16    2016-12-04\n",
       "Week 17    2016-12-11\n",
       "Week 18    2016-12-18\n",
       "Week 19    2016-12-21\n",
       "Week 20    2017-01-15\n",
       "Week 21    2017-01-22\n",
       "Week 22    2017-01-29\n",
       "Week 23    2017-02-05\n",
       "Week 24    2017-02-08\n",
       "Week 25    2017-02-12\n",
       "Week 26    2017-02-19\n",
       "Week 27    2017-02-26\n",
       "Week 28    2017-03-05\n",
       "Week 29    2017-03-12\n",
       "Week 30    2017-03-19\n",
       "Week 31    2017-04-02\n",
       "Week 32    2017-04-09\n",
       "Week 33    2017-04-16\n",
       "Week 34    2017-04-23\n",
       "Week 35    2017-04-30\n",
       "Week 36    2017-05-07\n",
       "Week 37    2017-05-14\n",
       "Week 38    2017-05-20\n",
       "Name: date, dtype: object"
      ]
     },
     "execution_count": 54,
     "metadata": {},
     "output_type": "execute_result"
    }
   ],
   "source": [
    "df5"
   ]
  },
  {
   "cell_type": "code",
   "execution_count": null,
   "metadata": {
    "collapsed": true
   },
   "outputs": [],
   "source": []
  }
 ],
 "metadata": {
  "kernelspec": {
   "display_name": "Python 3",
   "language": "python",
   "name": "python3"
  },
  "language_info": {
   "codemirror_mode": {
    "name": "ipython",
    "version": 3
   },
   "file_extension": ".py",
   "mimetype": "text/x-python",
   "name": "python",
   "nbconvert_exporter": "python",
   "pygments_lexer": "ipython3",
   "version": "3.6.0"
  }
 },
 "nbformat": 4,
 "nbformat_minor": 2
}
