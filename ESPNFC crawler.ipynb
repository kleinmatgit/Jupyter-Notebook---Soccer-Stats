{
 "cells": [
  {
   "cell_type": "markdown",
   "metadata": {},
   "source": [
    "# Introduction"
   ]
  },
  {
   "cell_type": "markdown",
   "metadata": {},
   "source": [
    "In this notebook we are going to retrieve all past Ligue1 results from ESPNFC.com"
   ]
  },
  {
   "cell_type": "markdown",
   "metadata": {},
   "source": [
    "# Imports"
   ]
  },
  {
   "cell_type": "code",
   "execution_count": 1,
   "metadata": {
    "collapsed": true
   },
   "outputs": [],
   "source": [
    "import lxml.html as lh\n",
    "import lxml.etree as et\n",
    "import urllib.request as ulib\n",
    "import pandas as pd\n",
    "from selenium import webdriver\n",
    "import time"
   ]
  },
  {
   "cell_type": "markdown",
   "metadata": {},
   "source": [
    "# Function to get Tree from url"
   ]
  },
  {
   "cell_type": "code",
   "execution_count": 2,
   "metadata": {
    "collapsed": true
   },
   "outputs": [],
   "source": [
    "# get url html as elementtree using selenium.webdriver\n",
    "def selenium_url_to_tree(driver, url):\n",
    "    driver.get(url)\n",
    "    time.sleep(5)\n",
    "    htmlSource = driver.page_source\n",
    "    tree = lh.fromstring(htmlSource)\n",
    "    return tree"
   ]
  },
  {
   "cell_type": "markdown",
   "metadata": {},
   "source": [
    "# Get Leagues urls"
   ]
  },
  {
   "cell_type": "code",
   "execution_count": 3,
   "metadata": {
    "collapsed": false
   },
   "outputs": [],
   "source": [
    "espnfc_url = 'http://www.espnfcasia.com'\n",
    "\n",
    "league_start_urls = {\n",
    "    'Premier League' : 'http://www.espnfcasia.com/english-premier-league/23/scores?date=20010818',\n",
    "    'Liga' : 'http://www.espnfcasia.com/spanish-primera-division/15/scores?date=20000930',\n",
    "    'Ligue 1' : 'http://www.espnfcasia.com/french-ligue-1/9/scores?date=20010317'\n",
    "}\n",
    "\n",
    "# open driver: that will open firefox window\n",
    "#driver = webdriver.Firefox()\n",
    "\n",
    "# construct the trees only once\n",
    "#tree = selenium_url_to_tree(driver,espnfc_url)\n",
    "\n",
    "# close firefox window once done\n",
    "#driver.quit()\n",
    "\n",
    "#main_div = tree.xpath('.//*[@class=\"desktop-nav-item leagues\"]')[0]\n",
    "#print(main_div)\n",
    "\n",
    "#li_divs = main_div.xpath('.//*[@class=\"column-content\"]')\n",
    "#print(\"there are %s leagues\" % (len(li_divs)))\n",
    "\n",
    "#for li in li_divs:\n",
    "#    href = li_divs.xpath('.//a/@href')\n",
    "#    league_name = li_divs.xpath('.//a/text()')\n",
    "#    print('%s : %s' % (league_name, href))"
   ]
  },
  {
   "cell_type": "markdown",
   "metadata": {},
   "source": [
    "# Params"
   ]
  },
  {
   "cell_type": "code",
   "execution_count": 4,
   "metadata": {
    "collapsed": true
   },
   "outputs": [],
   "source": [
    "# league\n",
    "league = 'Ligue 1'\n",
    "\n",
    "# date\n",
    "date_str = '20170311'"
   ]
  },
  {
   "cell_type": "markdown",
   "metadata": {},
   "source": [
    "# Start URL"
   ]
  },
  {
   "cell_type": "code",
   "execution_count": 5,
   "metadata": {
    "collapsed": false
   },
   "outputs": [
    {
     "name": "stdout",
     "output_type": "stream",
     "text": [
      "http://www.espnfcasia.com/french-ligue-1/9/scores?date=20170311\n"
     ]
    }
   ],
   "source": [
    "# start url we got from espnfc website by following Leagues -> French Ligue1 -> Scores & Fixtures\n",
    "# then choosing the latest year possible in top right dropdown menu\n",
    "\n",
    "# as you can see below, the url is following pattern:\n",
    "# http://www.espnfcasia.com/%competitipon%/%id%/scores?date=%date%\n",
    "# for instance the first date available for french ligue1 is 17th March 2001\n",
    "\n",
    "#start_url = 'http://www.espnfcasia.com/french-ligue-1/9/scores?date=20010317'\n",
    "start_url = league_start_urls[league]\n",
    "\n",
    "#replace last 8 chars by date\n",
    "start_url = start_url[:-8] + date_str\n",
    "print(start_url)"
   ]
  },
  {
   "cell_type": "markdown",
   "metadata": {},
   "source": [
    "# Get tree related to start url (using selenium method)"
   ]
  },
  {
   "cell_type": "code",
   "execution_count": 6,
   "metadata": {
    "collapsed": true
   },
   "outputs": [],
   "source": [
    "# open driver: that will open firefox window\n",
    "#driver = webdriver.Firefox()\n",
    "\n",
    "# construct the trees only once\n",
    "#tree = selenium_url_to_tree(driver,start_url)\n",
    "\n",
    "# close firefox window once done\n",
    "#driver.quit()"
   ]
  },
  {
   "cell_type": "markdown",
   "metadata": {},
   "source": [
    "# Get tree related to start url (simple method using urlopen)"
   ]
  },
  {
   "cell_type": "code",
   "execution_count": 7,
   "metadata": {
    "collapsed": true
   },
   "outputs": [],
   "source": [
    "def get_tree(url):\n",
    "    return lh.parse(ulib.urlopen(url))"
   ]
  },
  {
   "cell_type": "markdown",
   "metadata": {},
   "source": [
    "# Get next fixtures urls"
   ]
  },
  {
   "cell_type": "code",
   "execution_count": 8,
   "metadata": {
    "collapsed": false
   },
   "outputs": [],
   "source": [
    "def get_next_fixture_urls(tree):\n",
    "    return tree.xpath('.//*[@class=\"inline-date-selector\"]/ul//a/@href')"
   ]
  },
  {
   "cell_type": "markdown",
   "metadata": {},
   "source": [
    "# Get season from current url"
   ]
  },
  {
   "cell_type": "code",
   "execution_count": 9,
   "metadata": {
    "collapsed": false
   },
   "outputs": [],
   "source": [
    "def get_season(tree):\n",
    "    return tree.xpath('.//*[@id=\"score-date-picker\"]//option[@selected=\"selected\"]/text()')[0].replace(\" \",\"\")"
   ]
  },
  {
   "cell_type": "markdown",
   "metadata": {},
   "source": [
    "# Get date from current url"
   ]
  },
  {
   "cell_type": "code",
   "execution_count": 10,
   "metadata": {
    "collapsed": true
   },
   "outputs": [],
   "source": [
    "def get_date(url):\n",
    "    date = url[-8:]\n",
    "    year = date[:4]\n",
    "    month = date[4:-2]\n",
    "    day = date[-2:]\n",
    "    return year + '-' + month + '-' + day"
   ]
  },
  {
   "cell_type": "markdown",
   "metadata": {},
   "source": [
    "# Get data from current url"
   ]
  },
  {
   "cell_type": "code",
   "execution_count": 11,
   "metadata": {
    "collapsed": true
   },
   "outputs": [],
   "source": [
    "def get_data(tree):\n",
    "    \n",
    "    data = []\n",
    "    \n",
    "    # get list of score boxes list - ie: list of games for that day\n",
    "    score_boxes_divs = tree.xpath('.//*[@class=\"score-box\"]')\n",
    "\n",
    "    # get game details for game\n",
    "    for div in score_boxes_divs:\n",
    "    \n",
    "        # teams\n",
    "        teams = div.xpath('.//*[@class=\"team-name\"]/span/text()')\n",
    "        team_home = teams[0]\n",
    "        team_away = teams[1]\n",
    "\n",
    "        # score\n",
    "        scores = div.xpath('.//*[@class=\"team-scores\"]//span/text()')\n",
    "        score_home = scores[0]\n",
    "        score_away = scores[1]\n",
    "\n",
    "        # display\n",
    "        #print('%s %s:%s %s' % (team_home, score_home, score_away, team_away))\n",
    "\n",
    "        # row of data\n",
    "        data.append([team_home, team_away, score_home, score_away])\n",
    "        #df.loc[i] = [season_str, date, team_home, team_away, score_home, score_away]\n",
    "        #i = i + 1\n",
    "    \n",
    "    return data\n",
    "\n",
    "#print(df)"
   ]
  },
  {
   "cell_type": "markdown",
   "metadata": {},
   "source": [
    "# Recursive function which will analyse x dates for given league, starting with start_url (first date available on espnfc website)"
   ]
  },
  {
   "cell_type": "code",
   "execution_count": 12,
   "metadata": {
    "collapsed": true
   },
   "outputs": [],
   "source": [
    "# dataframe params\n",
    "cols = ['Season', 'Date', 'HomeTeam', 'AwayTeam', 'HomeScore', 'AwayScore']\n",
    "df = pd.DataFrame([],columns=cols)\n",
    "i = 0\n",
    "\n",
    "# analysis depth\n",
    "depth = 10\n",
    "\n",
    "def analyse_league(url):\n",
    "    \n",
    "    # exit condition\n",
    "    if depth == 0:\n",
    "        return\n",
    "    \n",
    "    tree = get_tree(url)\n",
    "    next_fixture_urls = get_next_fixture_urls(tree)\n",
    "    season = get_season(tree)\n",
    "    date = get_date(url)\n",
    "    data = get_data(url)\n",
    "    \n",
    "    # add to current df\n",
    "    for d in data:\n",
    "        l = [season, date]\n",
    "        l.extend(d)\n",
    "        df.loc[i] = l\n",
    "        i = i + 1\n",
    "    \n",
    "    # to control the recursion depth\n",
    "    depth = depth - 1\n",
    "    \n",
    "    # recursive call\n",
    "    for next_fixture_url in next_fixture_urls:\n",
    "        analyse_league(next_fixture_url)\n",
    "    "
   ]
  },
  {
   "cell_type": "code",
   "execution_count": 13,
   "metadata": {
    "collapsed": false
   },
   "outputs": [
    {
     "name": "stdout",
     "output_type": "stream",
     "text": [
      "      Season        Date           HomeTeam   AwayTeam HomeScore AwayScore\n",
      "0  2016/2017  2017-03-11          AS Monaco   Bordeaux         2         1\n",
      "1  2016/2017  2017-03-11  AS Nancy Lorraine      Lille         1         2\n",
      "2  2016/2017  2017-03-11           Guingamp     Bastia         5         0\n",
      "3  2016/2017  2017-03-11        Montpellier     Nantes         2         3\n",
      "4  2016/2017  2017-03-11       Stade Rennes  Dijon FCO         1         1\n"
     ]
    }
   ],
   "source": [
    "url = start_url\n",
    "tree = get_tree(url)\n",
    "next_fixture_urls = get_next_fixture_urls(tree)\n",
    "season = get_season(tree)\n",
    "date = get_date(url)\n",
    "data = get_data(tree)\n",
    "\n",
    "for d in data:\n",
    "    l = [season, date]\n",
    "    l.extend(d)\n",
    "    df.loc[i] = l\n",
    "    i = i + 1\n",
    "\n",
    "print(df)"
   ]
  }
 ],
 "metadata": {
  "kernelspec": {
   "display_name": "Python 3",
   "language": "python",
   "name": "python3"
  },
  "language_info": {
   "codemirror_mode": {
    "name": "ipython",
    "version": 3
   },
   "file_extension": ".py",
   "mimetype": "text/x-python",
   "name": "python",
   "nbconvert_exporter": "python",
   "pygments_lexer": "ipython3",
   "version": "3.6.0"
  }
 },
 "nbformat": 4,
 "nbformat_minor": 2
}
