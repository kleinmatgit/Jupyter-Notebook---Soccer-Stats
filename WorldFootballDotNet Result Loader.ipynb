{
 "cells": [
  {
   "cell_type": "markdown",
   "metadata": {},
   "source": [
    "# Introduction"
   ]
  },
  {
   "cell_type": "markdown",
   "metadata": {},
   "source": [
    "The goal of this notebook is to load soccer results from tree structure downloaded from worldfootball.net website. Results will be loaded and then saved as csv so user can look at it quickly if needed."
   ]
  },
  {
   "cell_type": "markdown",
   "metadata": {},
   "source": [
    "# Import"
   ]
  },
  {
   "cell_type": "code",
   "execution_count": 1,
   "metadata": {
    "collapsed": true
   },
   "outputs": [],
   "source": [
    "import lxml.html as lh\n",
    "import lxml.etree as et\n",
    "from selenium import webdriver\n",
    "import time\n",
    "import pickle\n",
    "import traceback\n",
    "import logging\n",
    "import os.path\n",
    "import configparser\n",
    "import os\n",
    "import re\n",
    "import datetime\n",
    "import errno"
   ]
  },
  {
   "cell_type": "markdown",
   "metadata": {},
   "source": [
    "# Params"
   ]
  },
  {
   "cell_type": "code",
   "execution_count": 2,
   "metadata": {
    "collapsed": true
   },
   "outputs": [],
   "source": [
    "root_path = 'L:/Dev/Sandbox/Apps Development/SoccerWebApp/PySoccer/WorldFootballDotNet/'\n",
    "conf_path = os.path.join(root_path, '_conf','worldfootball.ini')\n",
    "log_path = os.path.join(root_path, '_logs')"
   ]
  },
  {
   "cell_type": "markdown",
   "metadata": {},
   "source": [
    "# Logging"
   ]
  },
  {
   "cell_type": "code",
   "execution_count": 3,
   "metadata": {
    "collapsed": false
   },
   "outputs": [],
   "source": [
    "logger = logging.getLogger('myapp')\n",
    "timestamp = datetime.datetime.now().strftime('%H%M%S')\n",
    "hdlr = logging.FileHandler(os.path.join(log_path,'worldfootballnet_TreeSaver_' + timestamp + '.log'))\n",
    "formatter = logging.Formatter('%(asctime)s %(levelname)s %(message)s')\n",
    "hdlr.setFormatter(formatter)\n",
    "logger.addHandler(hdlr) \n",
    "logger.setLevel(logging.DEBUG)"
   ]
  },
  {
   "cell_type": "code",
   "execution_count": 4,
   "metadata": {
    "collapsed": true
   },
   "outputs": [],
   "source": [
    "def logWrapper(message, level=\"info\", print_console=True):\n",
    "    if(print_console):\n",
    "        print(message)\n",
    "    if(level==\"info\"):\n",
    "        logger.info(message)\n",
    "    elif(level==\"warning\"):\n",
    "        logger.warning(message)\n",
    "    elif(level==\"debug\"):\n",
    "        logger.debug(message)\n",
    "    elif(level==\"error\"):\n",
    "        logger.error(message)"
   ]
  },
  {
   "cell_type": "code",
   "execution_count": 5,
   "metadata": {
    "collapsed": false
   },
   "outputs": [],
   "source": [
    "#logger.error(\"test error\")\n",
    "#logger.warning(\"this is a warning\")\n",
    "#logger.info(\"this is just info\")\n",
    "#logger.debug(\"this is debug\")\n",
    "#logWrapper('hello world')\n",
    "#logWrapper('message')"
   ]
  },
  {
   "cell_type": "markdown",
   "metadata": {
    "collapsed": true
   },
   "source": [
    "# Conf"
   ]
  },
  {
   "cell_type": "code",
   "execution_count": 6,
   "metadata": {
    "collapsed": false
   },
   "outputs": [],
   "source": [
    "class ConfHandler():\n",
    "\n",
    "    dicSections = {}\n",
    "    \n",
    "    def __init__(self,file_full_path):\n",
    "\n",
    "        if not os.path.exists(file_full_path):\n",
    "            raise Exception('path not correct: {0}'.format(file_full_path))\n",
    "        \n",
    "        config = configparser.ConfigParser()\n",
    "        config.read(file_full_path)\n",
    "        \n",
    "        for s in config.sections():\n",
    "            dicParams = {}\n",
    "            for p in config[s]:\n",
    "                dicParams[p] = config[s][p]\n",
    "            self.dicSections[s] = dicParams\n",
    "\n",
    "    def get(self,section,param, is_param_list = False):\n",
    "        if(is_param_list):\n",
    "            return self.dicSections[section][param].replace(' ','').split(',')\n",
    "        return self.dicSections[section][param]\n",
    "    \n",
    "    def get_section(self,section):\n",
    "        return self.dicSections[section]\n",
    "    \n",
    "    def get_sections(self):\n",
    "        return sorted(list(self.dicSections.keys()))"
   ]
  },
  {
   "cell_type": "code",
   "execution_count": 7,
   "metadata": {
    "collapsed": false
   },
   "outputs": [],
   "source": [
    "# test conf\n",
    "#conf = ConfHandler(conf_path)\n",
    "#print(conf.get('france','ligue1'))\n",
    "#dic = conf.get_section('france')\n",
    "#print(dic)\n",
    "#sections = conf.get_sections()\n",
    "#print(sections)\n",
    "#print(conf.get('cup', 'club_cup_list', True))"
   ]
  },
  {
   "cell_type": "markdown",
   "metadata": {},
   "source": [
    "# Functions"
   ]
  },
  {
   "cell_type": "markdown",
   "metadata": {},
   "source": [
    "## [selenium_url_to_tree] download url final output as a tree"
   ]
  },
  {
   "cell_type": "code",
   "execution_count": 8,
   "metadata": {
    "collapsed": true
   },
   "outputs": [],
   "source": [
    "# get url html as elementtree using selenium.webdriver\n",
    "def selenium_url_to_tree(driver, url):\n",
    "    driver.get(url)\n",
    "    time.sleep(2)\n",
    "    htmlSource = driver.page_source\n",
    "    tree = lh.fromstring(htmlSource)\n",
    "    return tree\n",
    "\n",
    "# HOW IT WORKS....\n",
    "# open driver: that will open firefox window\n",
    "#driver = webdriver.Firefox()\n",
    "\n",
    "# construct the trees only once\n",
    "#results_tree = selenium_url_to_tree(driver,week_url)\n",
    "\n",
    "# close firefox window once done\n",
    "#driver.quit()"
   ]
  },
  {
   "cell_type": "code",
   "execution_count": 9,
   "metadata": {
    "collapsed": false
   },
   "outputs": [],
   "source": [
    "# return html page as a tree.\n",
    "def get_tree_from_file(filename):\n",
    "    \n",
    "    if(not os.path.isfile(filename)):\n",
    "        logWrapper(\"File doesn't exist: {0}\".format(filename), level='error')\n",
    "        raise FileNotFoundError(errno.ENOENT, os.strerror(errno.ENOENT), filename)\n",
    "    \n",
    "    return lh.fromstring(open(filename, 'r').read())"
   ]
  },
  {
   "cell_type": "code",
   "execution_count": 74,
   "metadata": {
    "collapsed": false
   },
   "outputs": [],
   "source": [
    "def extract_result_from_tree(tree, competition_type, competition, season, stage):\n",
    "    if(competition_type==\"league\"):\n",
    "        return extract_result_from_league_tree(tree, competition, season, stage)\n",
    "    elif(competition_type==\"cup\"):\n",
    "        return extract_result_from_league_tree(tree, competition, season, stage)\n",
    "    else:\n",
    "        logWrapper('Unhandled competition type: {0}'.format(competition_type), level='error')\n",
    "        raise"
   ]
  },
  {
   "cell_type": "code",
   "execution_count": 75,
   "metadata": {
    "collapsed": true
   },
   "outputs": [],
   "source": [
    "def analyse_score(score):\n",
    "    \n",
    "    regs = {'score': r'([0-9]{1,2}):([0-9]{1,2}) \\(([0-9]{1,2}):([0-9]{1,2})\\)',\n",
    "            'score-extra-time': r'([0-9]{1,2}):([0-9]{1,2}) \\(([0-9]{1,2}):([0-9]{1,2}), ([0-9]{1,2}):([0-9]{1,2})\\) aet',\n",
    "            'score-penalty': r'([0-9]{1,2}):([0-9]{1,2}) \\(([0-9]{1,2}):([0-9]{1,2}), ([0-9]{1,2}):([0-9]{1,2}), ([0-9]{1,2}):([0-9]{1,2})\\) pso'}\n",
    "    \n",
    "    # '3:1 (2:1)'\n",
    "    matchObj = re.match(regs['score'], score)\n",
    "    \n",
    "    if matchObj:\n",
    "        home_score_ht = matchObj.group(3)\n",
    "        away_score_ht = matchObj.group(4)\n",
    "        home_score = matchObj.group(1)\n",
    "        away_score = matchObj.group(2)\n",
    "        home_score_et = None\n",
    "        away_score_et = None\n",
    "        home_pk = None\n",
    "        away_pk = None\n",
    "    \n",
    "    else:\n",
    "        # '1:3 (0:0, 1:1) aet'\n",
    "        matchObj = re.match(regs['score-extra-time'], score)\n",
    "    \n",
    "        if matchObj:\n",
    "            home_score_ht = matchObj.group(3)\n",
    "            away_score_ht = matchObj.group(4)\n",
    "            home_score = matchObj.group(5)\n",
    "            away_score = matchObj.group(6)\n",
    "            home_score_et = matchObj.group(1)\n",
    "            away_score_et = matchObj.group(2)\n",
    "            home_pk = None\n",
    "            away_pk = None\n",
    "        else:\n",
    "            # '1:4 (0:0, 0:0, 0:0) pso'\n",
    "            matchObj = re.match(regs['score-penalty'], score)\n",
    "\n",
    "            if matchObj:\n",
    "                home_score_ht = matchObj.group(3)\n",
    "                away_score_ht = matchObj.group(4)\n",
    "                home_score = matchObj.group(5)\n",
    "                away_score = matchObj.group(6)\n",
    "                home_score_et = matchObj.group(7)\n",
    "                away_score_et = matchObj.group(8)\n",
    "                home_pk = matchObj.group(1)\n",
    "                away_pk = matchObj.group(2)\n",
    "            else:\n",
    "                raise ValueError('could not match {0}'.format(score))\n",
    "    \n",
    "    if home_score_ht > home_score:\n",
    "        raise ValueError(\"half time home score ({0}) can't be higher than final home score ({1})\".format(home_score_ht, home_score))\n",
    "    \n",
    "    if away_score_ht > away_score:\n",
    "        raise ValueError(\"half time away score ({0}) can't be higher than final away score ({1})\".format(away_score_ht, away_score))\n",
    "    \n",
    "    return {'home_score_ht':home_score_ht,\n",
    "            'away_score_ht':away_score_ht,\n",
    "            'home_score':home_score,\n",
    "            'away_score':away_score,\n",
    "            'home_score_et':home_score_et,\n",
    "            'away_score_et':away_score_et,\n",
    "            'home_pk':home_pk,\n",
    "            'away_pk':away_pk}"
   ]
  },
  {
   "cell_type": "code",
   "execution_count": 76,
   "metadata": {
    "collapsed": false
   },
   "outputs": [],
   "source": [
    "# test analyse_score\n",
    "#print(analyse_score('3:1 (0:0)'))\n",
    "#print(analyse_score('1:3 (0:0, 1:1) aet'))\n",
    "#print(analyse_score('1:4 (0:1, 2:2, 3:3) pso'))"
   ]
  },
  {
   "cell_type": "code",
   "execution_count": 77,
   "metadata": {
    "collapsed": false
   },
   "outputs": [],
   "source": [
    "def extract_result_from_league_tree(tree, competition, season, stage):\n",
    "    \n",
    "    # get tables html element from the tree\n",
    "    table = tree.find('.//div[@class=\"data\"]//table[@class=\"standard_tabelle\"]')\n",
    "    \n",
    "    # log current process\n",
    "    logWrapper(\"Processing season {0}, {1}\".format(season, stage))\n",
    "    \n",
    "    # store results\n",
    "    data = []\n",
    "    \n",
    "    # get all rows\n",
    "    trs = table.findall('.//tbody/tr')\n",
    "    \n",
    "    current_date = None\n",
    "    \n",
    "    for tr in trs:\n",
    "        \n",
    "        date = tr[0].text_content().strip()\n",
    "        if(date != ''):\n",
    "            current_date = date\n",
    "        else:\n",
    "            date = current_date\n",
    "            \n",
    "        time = tr[1].text_content().strip()\n",
    "        home_team = tr[2].text_content().strip()\n",
    "        away_team = tr[4].text_content().strip()\n",
    "        \n",
    "        scores = tr[5].text_content().strip()\n",
    "        \n",
    "        dic_scores = analyse_score(scores)\n",
    "        home_score_ht = dic_scores['home_score_ht']\n",
    "        away_score_ht = dic_scores['away_score_ht']\n",
    "        home_score = dic_scores['home_score']\n",
    "        away_score = dic_scores['away_score']\n",
    "        home_score_et = dic_scores['home_score_et']\n",
    "        away_score_et = dic_scores['away_score_et']\n",
    "        home_pk = dic_scores['home_pk']\n",
    "        away_pk = dic_scores['away_pk']\n",
    "        \n",
    "        #score = (scores[:scores.find('(')-1]).strip()\n",
    "        #score_ht = (scores[scores.find('(')+1:-1]).strip()\n",
    "        #home_score_ht = score_ht[:score.find(':')].strip()\n",
    "        #away_score_ht = score_ht[score.find(':')+1:].strip()\n",
    "        #home_score = score[:score.find(':')].strip()\n",
    "        #away_score = score[score.find(':')+1:].strip()\n",
    "        #home_score_et = None\n",
    "        #away_score_et = None\n",
    "        #home_pen = None\n",
    "        #away_pen = None\n",
    "        \n",
    "        data += [[season, stage, date, time, home_team, away_team, home_score_ht, away_score_ht, home_score, away_score, home_score_et, away_score_et, home_pk, away_pk]]\n",
    "        \n",
    "    return data"
   ]
  },
  {
   "cell_type": "code",
   "execution_count": 78,
   "metadata": {
    "collapsed": true
   },
   "outputs": [],
   "source": [
    "def construct_stage_tree_path(zone, competition, season, stage):\n",
    "    return os.path.join(root_path, zone, competition, season, stage + '.html')    "
   ]
  },
  {
   "cell_type": "code",
   "execution_count": 79,
   "metadata": {
    "collapsed": true
   },
   "outputs": [],
   "source": [
    "def wrap_test(params):\n",
    "    tree = get_tree_from_file(construct_stage_tree_path(params['zone'], params['competition'], params['season'], params['stage']))\n",
    "    return extract_result_from_tree(tree, params['competition_type'], params['competition'], params['season'], params['stage'])"
   ]
  },
  {
   "cell_type": "code",
   "execution_count": 82,
   "metadata": {
    "collapsed": false
   },
   "outputs": [
    {
     "name": "stdout",
     "output_type": "stream",
     "text": [
      "Processing season 2016-2017, Week04\n",
      "Test 01 --> OK\n",
      "Processing season 2014-2015, Round of 16\n",
      "Test 02 --> OK\n",
      "Test 03 --> OK\n"
     ]
    }
   ],
   "source": [
    "# load conf\n",
    "conf = ConfHandler(conf_path)\n",
    "\n",
    "# 1st example: league game - ligue1\n",
    "data = wrap_test({'zone':'france', 'competition':'ligue1', 'season':'2016-2017', 'stage':'Week04', 'competition_type':'league'})\n",
    "game = data[0]\n",
    "assert(game[4]=='Paris Saint-Germain' and game[6]=='0' and game[8]=='1')\n",
    "print('Test 01 --> OK')\n",
    "\n",
    "# 2nd example: cup game - coupe de france with extra time and penalty shots\n",
    "data = wrap_test({'zone':'france', 'competition':'coupe-de-france', 'season':'2014-2015', 'stage':'Round of 16', 'competition_type':'cup'})\n",
    "game = data[1]\n",
    "assert(game[5]=='AJ Auxerre' and game[6]=='0' and game[7]=='0' and game[8]=='1' and game[9]=='1' and game[12]=='5' and game[13]=='6')\n",
    "print('Test 02 --> OK')\n",
    "\n",
    "# 3rd example: cup game - coupe de france with extra time only\n",
    "game = data[4]\n",
    "assert(game[4]=='AS Yzeure' and game[6]=='0' and game[7]=='0' and game[8]=='1' and game[9]=='1' and game[10]=='1' and game[11]=='3' and game[12]==None)\n",
    "print('Test 03 --> OK')\n",
    "\n"
   ]
  },
  {
   "cell_type": "code",
   "execution_count": null,
   "metadata": {
    "collapsed": true
   },
   "outputs": [],
   "source": []
  }
 ],
 "metadata": {
  "kernelspec": {
   "display_name": "Python 3",
   "language": "python",
   "name": "python3"
  },
  "language_info": {
   "codemirror_mode": {
    "name": "ipython",
    "version": 3
   },
   "file_extension": ".py",
   "mimetype": "text/x-python",
   "name": "python",
   "nbconvert_exporter": "python",
   "pygments_lexer": "ipython3",
   "version": "3.6.0"
  }
 },
 "nbformat": 4,
 "nbformat_minor": 2
}
